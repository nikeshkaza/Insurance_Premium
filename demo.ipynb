{
 "cells": [
  {
   "cell_type": "code",
   "execution_count": 1,
   "metadata": {},
   "outputs": [],
   "source": [
    "import pandas as pd"
   ]
  },
  {
   "cell_type": "code",
   "execution_count": 2,
   "metadata": {},
   "outputs": [],
   "source": [
    "df=pd.DataFrame"
   ]
  },
  {
   "cell_type": "code",
   "execution_count": 4,
   "metadata": {},
   "outputs": [],
   "source": [
    "df=[1,2]"
   ]
  },
  {
   "cell_type": "code",
   "execution_count": 6,
   "metadata": {},
   "outputs": [
    {
     "name": "stdout",
     "output_type": "stream",
     "text": [
      "[1, 2]\n"
     ]
    }
   ],
   "source": [
    "print(df)"
   ]
  },
  {
   "cell_type": "code",
   "execution_count": 2,
   "metadata": {},
   "outputs": [],
   "source": [
    "from pyspark.sql import SparkSession\n",
    "columns = [\"language\",\"users_count\"]\n",
    "data = [(\"Java\", \"20000\"), (\"Python\", \"100000\"), (\"Scala\", \"3000\")]\n"
   ]
  },
  {
   "cell_type": "code",
   "execution_count": 3,
   "metadata": {},
   "outputs": [
    {
     "name": "stderr",
     "output_type": "stream",
     "text": [
      "23/01/15 11:56:26 WARN Utils: Your hostname, Nikeshs-MacBook-Pro-2.local resolves to a loopback address: 127.0.0.1; using 192.168.29.140 instead (on interface en0)\n",
      "23/01/15 11:56:26 WARN Utils: Set SPARK_LOCAL_IP if you need to bind to another address\n",
      "WARNING: An illegal reflective access operation has occurred\n",
      "WARNING: Illegal reflective access by org.apache.spark.unsafe.Platform (file:/Users/nikeshkaza/data_science/POC/insurance_premium/venv/lib/python3.8/site-packages/pyspark/jars/spark-unsafe_2.12-3.2.1.jar) to constructor java.nio.DirectByteBuffer(long,int)\n",
      "WARNING: Please consider reporting this to the maintainers of org.apache.spark.unsafe.Platform\n",
      "WARNING: Use --illegal-access=warn to enable warnings of further illegal reflective access operations\n",
      "WARNING: All illegal access operations will be denied in a future release\n",
      "Using Spark's default log4j profile: org/apache/spark/log4j-defaults.properties\n",
      "Setting default log level to \"WARN\".\n",
      "To adjust logging level use sc.setLogLevel(newLevel). For SparkR, use setLogLevel(newLevel).\n",
      "23/01/15 11:56:26 WARN NativeCodeLoader: Unable to load native-hadoop library for your platform... using builtin-java classes where applicable\n"
     ]
    }
   ],
   "source": [
    "\n",
    "spark = SparkSession.builder.appName('Insurace_Premium').getOrCreate()\n",
    "rdd = spark.sparkContext.parallelize(data)\n"
   ]
  },
  {
   "cell_type": "code",
   "execution_count": 4,
   "metadata": {},
   "outputs": [
    {
     "name": "stdout",
     "output_type": "stream",
     "text": [
      "root\n",
      " |-- _1: string (nullable = true)\n",
      " |-- _2: string (nullable = true)\n",
      "\n"
     ]
    }
   ],
   "source": [
    "\n",
    "dfFromRDD1 = rdd.toDF()\n",
    "dfFromRDD1.printSchema()\n"
   ]
  },
  {
   "cell_type": "code",
   "execution_count": 5,
   "metadata": {},
   "outputs": [
    {
     "name": "stdout",
     "output_type": "stream",
     "text": [
      "root\n",
      " |-- language: string (nullable = true)\n",
      " |-- users_count: string (nullable = true)\n",
      "\n"
     ]
    }
   ],
   "source": [
    "\n",
    "columns = [\"language\",\"users_count\"]\n",
    "dfFromRDD1 = rdd.toDF(columns)\n",
    "dfFromRDD1.printSchema()\n"
   ]
  },
  {
   "cell_type": "code",
   "execution_count": 6,
   "metadata": {},
   "outputs": [],
   "source": [
    "datafram = spark.read.parquet(\"insurance_artifact/data_transformation/20230115_115034/train/insurance_premium\")"
   ]
  },
  {
   "cell_type": "code",
   "execution_count": 8,
   "metadata": {},
   "outputs": [
    {
     "name": "stdout",
     "output_type": "stream",
     "text": [
      "+--------+------+------+---------+---+----+--------+\n",
      "|expenses|   sex|smoker|   region|age| bmi|children|\n",
      "+--------+------+------+---------+---+----+--------+\n",
      "|14283.46|female|   yes|northeast| 18|21.7|       0|\n",
      "|  2201.1|female|    no|southeast| 18|24.1|       1|\n",
      "| 2196.47|female|    no|northeast| 18|25.1|       0|\n",
      "|18223.45|female|   yes|southeast| 18|27.3|       3|\n",
      "| 2200.83|female|    no|northeast| 18|28.2|       0|\n",
      "| 7323.73|female|    no|northeast| 18|29.2|       0|\n",
      "| 2203.47|female|    no|northeast| 18|30.1|       0|\n",
      "| 2203.74|female|    no|northeast| 18|30.3|       0|\n",
      "| 1622.19|female|    no|southeast| 18|31.4|       0|\n",
      "| 4561.19|female|    no|northeast| 18|31.4|       4|\n",
      "| 2205.98|female|    no|northeast| 18|31.9|       0|\n",
      "|  2207.7|female|    no|northeast| 18|33.2|       0|\n",
      "|11482.63|female|    no|southeast| 18|33.9|       0|\n",
      "| 1629.83|female|    no|southeast| 18|36.9|       0|\n",
      "|36149.48|female|   yes|southeast| 18|36.9|       0|\n",
      "| 2219.45|female|    no|southeast| 18|37.3|       1|\n",
      "| 1631.82|female|    no|southeast| 18|38.3|       0|\n",
      "| 1633.04|female|    no|southeast| 18|39.2|       0|\n",
      "| 1633.96|female|    no|southeast| 18|39.8|       0|\n",
      "| 2217.47|female|    no|northeast| 18|40.2|       0|\n",
      "+--------+------+------+---------+---+----+--------+\n",
      "only showing top 20 rows\n",
      "\n"
     ]
    }
   ],
   "source": [
    "datafram.show()"
   ]
  },
  {
   "cell_type": "code",
   "execution_count": null,
   "metadata": {},
   "outputs": [],
   "source": []
  }
 ],
 "metadata": {
  "kernelspec": {
   "display_name": "Python 3",
   "language": "python",
   "name": "python3"
  },
  "language_info": {
   "codemirror_mode": {
    "name": "ipython",
    "version": 3
   },
   "file_extension": ".py",
   "mimetype": "text/x-python",
   "name": "python",
   "nbconvert_exporter": "python",
   "pygments_lexer": "ipython3",
   "version": "3.8.13"
  },
  "orig_nbformat": 4,
  "vscode": {
   "interpreter": {
    "hash": "379d9930b1490b17c17329852903484d27ba1d8a455ecbd282bae02eac862629"
   }
  }
 },
 "nbformat": 4,
 "nbformat_minor": 2
}
